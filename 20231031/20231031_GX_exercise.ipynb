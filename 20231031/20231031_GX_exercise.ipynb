{
  "nbformat": 4,
  "nbformat_minor": 0,
  "metadata": {
    "colab": {
      "provenance": []
    },
    "kernelspec": {
      "name": "python3",
      "display_name": "Python 3"
    },
    "language_info": {
      "name": "python"
    }
  },
  "cells": [
    {
      "cell_type": "code",
      "execution_count": 2,
      "metadata": {
        "colab": {
          "base_uri": "https://localhost:8080/"
        },
        "id": "uVD-OVfWfqkE",
        "outputId": "37fcae77-5554-4382-9003-436edf288757"
      },
      "outputs": [
        {
          "output_type": "stream",
          "name": "stdout",
          "text": [
            "請輸入大於1的正整數60\n",
            "59\n"
          ]
        }
      ],
      "source": [
        "a=int(input('請輸入大於1的正整數'))\n",
        "x=0\n",
        "for b in range(1,(a+1)):\n",
        "  n=0\n",
        "  for i in range(1,(b+1)):\n",
        "      if b%i==0:\n",
        "        n+=1\n",
        "  if n==2:\n",
        "    x=b\n",
        "print(x)"
      ]
    },
    {
      "cell_type": "code",
      "source": [
        "a=input('請輸入一列數字，數字間以逗號隔開')\n",
        "a=a.split(',')\n",
        "b=[ ]\n",
        "for i in range(0,len(a)):\n",
        "  n=0\n",
        "  for j in range(0,len(a)):\n",
        "    if a[i]>a[j]:\n",
        "      n+=1\n",
        "  b.append(n)\n",
        "print(b)\n",
        "\n"
      ],
      "metadata": {
        "colab": {
          "base_uri": "https://localhost:8080/"
        },
        "id": "ZNxdTEXXlJLi",
        "outputId": "4992a27b-7589-42e5-c51b-de18a63a5238"
      },
      "execution_count": 5,
      "outputs": [
        {
          "output_type": "stream",
          "name": "stdout",
          "text": [
            "請輸入一列數字，數字間以逗號隔開5,2,4,7,8,3\n",
            "[3, 0, 2, 4, 5, 1]\n"
          ]
        }
      ]
    },
    {
      "cell_type": "code",
      "source": [
        "a=input('請輸入由0和1構成的數列')\n",
        "a=a.split()\n"
      ],
      "metadata": {
        "colab": {
          "base_uri": "https://localhost:8080/"
        },
        "id": "Ou2iA-oUomqo",
        "outputId": "a376cee8-2643-4180-88b9-ac64916b9d57"
      },
      "execution_count": 6,
      "outputs": [
        {
          "output_type": "stream",
          "name": "stdout",
          "text": [
            "請輸入由0和1構成的數列01010101111000\n",
            "['01010101111000']\n"
          ]
        }
      ]
    }
  ]
}