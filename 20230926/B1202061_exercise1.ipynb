{
  "nbformat": 4,
  "nbformat_minor": 0,
  "metadata": {
    "colab": {
      "provenance": []
    },
    "kernelspec": {
      "name": "python3",
      "display_name": "Python 3"
    },
    "language_info": {
      "name": "python"
    }
  },
  "cells": [
    {
      "cell_type": "code",
      "execution_count": null,
      "metadata": {
        "colab": {
          "base_uri": "https://localhost:8080/"
        },
        "id": "pi0cd2uSfEBu",
        "outputId": "d69fdbfe-019f-46cf-df9c-cd4757fdb80d"
      },
      "outputs": [
        {
          "output_type": "stream",
          "name": "stdout",
          "text": [
            "長庚大學\n",
            "醫學系\n",
            "高苗舒\n",
            "請輸入一個數字:4\n",
            "False\n",
            "243\n",
            "True\n",
            "0.6\n",
            "0.6\n"
          ]
        }
      ],
      "source": [
        "from traitlets.config.application import boolean_flag\n",
        "a=\"\"\"長庚大學\n",
        "醫學系\n",
        "高苗舒\"\"\"\n",
        "print(a)\n",
        "\n",
        "\n",
        "a=input (\"請輸入一個數字:\")\n",
        "print(float(a)>10)\n",
        "\n",
        "a=3\n",
        "b=5\n",
        "print(a**b)\n",
        "\n",
        "a=3\n",
        "b=5\n",
        "print(a!=b)\n",
        "\n",
        "c=3\n",
        "d=5\n",
        "c/=d\n",
        "print(c)\n",
        "\n",
        "c=3\n",
        "d=5\n",
        "c=c/d\n",
        "print(c)\n",
        "\n",
        "\n"
      ]
    }
  ]
}