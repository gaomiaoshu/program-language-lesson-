{
  "nbformat": 4,
  "nbformat_minor": 0,
  "metadata": {
    "colab": {
      "provenance": []
    },
    "kernelspec": {
      "name": "python3",
      "display_name": "Python 3"
    },
    "language_info": {
      "name": "python"
    }
  },
  "cells": [
    {
      "cell_type": "code",
      "execution_count": null,
      "metadata": {
        "colab": {
          "base_uri": "https://localhost:8080/"
        },
        "id": "vVBpjIzuiMVY",
        "outputId": "a682b297-face-493c-9df9-00fb9efe172a"
      },
      "outputs": [
        {
          "output_type": "stream",
          "name": "stdout",
          "text": [
            "請輸入樹層層數(至少為7)10\n",
            "          *\n",
            "         ***\n",
            "        *****\n",
            "       *******\n",
            "      *********\n",
            "     ***********\n",
            "    *************\n",
            "   ***************\n",
            "  *****************\n",
            " *******************\n",
            "         ***\n",
            "         ***\n",
            "         ***\n",
            "         ***\n",
            "         ***\n"
          ]
        }
      ],
      "source": [
        "def height(x):\n",
        "  for a in range(x):\n",
        "    print((\" \"*(x-a))+(\"*\"*((2*a)+1)))\n",
        "  if a==(x-1):\n",
        "    for b in range(5):\n",
        "      print(\" \"*(x-1)+\"*\"*3)\n",
        "height(int(input(\"請輸入聖誕樹層數(至少為7)\")))"
      ]
    },
    {
      "cell_type": "code",
      "source": [
        "def BMI(h,w):\n",
        "    result=w/((h/100)**2)\n",
        "    return result\n",
        "try:\n",
        "  w=float(input('輸入體重(kg):'))\n",
        "  h=float(input('輸入身高(cm):'))\n",
        "  print(BMI(h,w))\n",
        "  if BMI(h,w)<18.5:\n",
        "   print('體位:過輕')\n",
        "  elif 18.5<=BMI(h,w)<24:\n",
        "    print('體位:適中')\n",
        "  elif 24<=BMI(h,w)<27:\n",
        "    print('體位:過重')\n",
        "  else:\n",
        "    print('體位:肥胖')\n",
        "except:\n",
        "  print(\"輸入內容錯誤\")"
      ],
      "metadata": {
        "colab": {
          "base_uri": "https://localhost:8080/"
        },
        "id": "c4meFlItkjot",
        "outputId": "1463c7f6-20ce-43d4-834e-7e06041664cc"
      },
      "execution_count": 5,
      "outputs": [
        {
          "output_type": "stream",
          "name": "stdout",
          "text": [
            "輸入體重(kg):38\n",
            "輸入身高(cm):147\n",
            "17.58526539867648\n",
            "體位:過輕\n"
          ]
        }
      ]
    }
  ]
}