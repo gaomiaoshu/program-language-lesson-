{
  "nbformat": 4,
  "nbformat_minor": 0,
  "metadata": {
    "colab": {
      "provenance": []
    },
    "kernelspec": {
      "name": "python3",
      "display_name": "Python 3"
    },
    "language_info": {
      "name": "python"
    }
  },
  "cells": [
    {
      "cell_type": "code",
      "execution_count": 36,
      "metadata": {
        "colab": {
          "base_uri": "https://localhost:8080/"
        },
        "id": "PebA3v6p1qTo",
        "outputId": "576f5108-1099-4427-a58e-a31596663903"
      },
      "outputs": [
        {
          "output_type": "stream",
          "name": "stdout",
          "text": [
            "         *\n",
            "        ***\n",
            "       *****\n",
            "      *******\n",
            "     *********\n",
            "    ***********\n",
            "   *************\n",
            "  ***************\n",
            " *****************\n",
            "        ***\n",
            "        ***\n",
            "        ***\n"
          ]
        }
      ],
      "source": [
        "for a in range(9):\n",
        "  print((\" \"*(9-a))+(\"*\"*((2*a)+1)))\n",
        "  if a==8:\n",
        "    for b in range(3):\n",
        "      print(\" \"*8+\"*\"*3)\n",
        "\n",
        "\n"
      ]
    },
    {
      "cell_type": "code",
      "source": [
        "import random\n",
        "r=0\n",
        "m=0\n",
        "a=random.sample(range(1,10),4)\n",
        "print(f'答案:{a}')\n",
        "while m!=4:\n",
        "  m=0\n",
        "  n=0\n",
        "  b=input(\"輸入四個數字(不會重複)\")\n",
        "  while len(b)!=4:\n",
        "    if len(b)>4:\n",
        "      b=input(\"輸入數字過多,請輸入四個數字(不會重複)\")\n",
        "    else:\n",
        "      b=input(\"輸入數字過少,請輸入四個數字(不會重複)\")\n",
        "  c=list(b)\n",
        "  for d in range(4):\n",
        "    if int(c[d])==a[d]:\n",
        "      m+=1\n",
        "    else:\n",
        "      for e in range(4):\n",
        "        if int(c[d])==a[e]:\n",
        "          n+=1\n",
        "  print(f'{b}:{m}A{n}B')\n",
        "  r+=1\n",
        "print(f'答對了!總共猜了{r}次')\n",
        "\n",
        "\n",
        "\n",
        "\n"
      ],
      "metadata": {
        "colab": {
          "base_uri": "https://localhost:8080/"
        },
        "id": "H4ntBJUuRXAY",
        "outputId": "122abbbf-ed6e-4236-f0da-d149022b2875"
      },
      "execution_count": 39,
      "outputs": [
        {
          "output_type": "stream",
          "name": "stdout",
          "text": [
            "答案:[5, 3, 9, 7]\n",
            "輸入四個數字(不會重複)25496\n",
            "輸入數字過多,請輸入四個數字(不會重複)157\n",
            "輸入數字過少,請輸入四個數字(不會重複)2496\n",
            "2496:1A0B\n",
            "輸入四個數字(不會重複)2398\n",
            "2398:2A0B\n",
            "輸入四個數字(不會重複)2395\n",
            "2395:2A1B\n",
            "輸入四個數字(不會重複)5396\n",
            "5396:3A0B\n",
            "輸入四個數字(不會重複)5397\n",
            "5397:4A0B\n",
            "答對了!總共猜了5次\n"
          ]
        }
      ]
    }
  ]
}