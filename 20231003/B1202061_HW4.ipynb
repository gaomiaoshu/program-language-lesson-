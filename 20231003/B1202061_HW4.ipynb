{
  "nbformat": 4,
  "nbformat_minor": 0,
  "metadata": {
    "colab": {
      "provenance": []
    },
    "kernelspec": {
      "name": "python3",
      "display_name": "Python 3"
    },
    "language_info": {
      "name": "python"
    }
  },
  "cells": [
    {
      "cell_type": "code",
      "execution_count": 6,
      "metadata": {
        "colab": {
          "base_uri": "https://localhost:8080/"
        },
        "id": "n-8bOlPWWM3M",
        "outputId": "9a126945-dfce-40c2-f699-d4642cac507a"
      },
      "outputs": [
        {
          "output_type": "stream",
          "name": "stdout",
          "text": [
            "請輸入五個成績，成績間以空白格隔開5 9 4 2 8\n",
            "5.666666666666667\n"
          ]
        }
      ],
      "source": [
        "a=input(\"請輸入五個成績，成績間以空白格隔開\")\n",
        "b=a.split(\" \")\n",
        "b.remove(max(b))\n",
        "b.remove(min(b))\n",
        "print((float(b[0])+float(b[1])+float(b[2]))/3)\n",
        "\n"
      ]
    },
    {
      "cell_type": "code",
      "source": [
        "a=input(\"請輸入兩個數字，數字間以空白格隔開\")\n",
        "b=a.split(\" \")\n",
        "c=input(\"請輸入一運算符號\")\n",
        "if c==\"+\":\n",
        "  print(float(b[0])+float(b[1]))\n",
        "elif c==\"-\":\n",
        "  print(float(b[0])-float(b[1]))\n",
        "elif c==\"*\":\n",
        "  print(float(b[0])*float(b[1]))\n",
        "else:\n",
        "  print(float(b[0])/float(b[1]))"
      ],
      "metadata": {
        "colab": {
          "base_uri": "https://localhost:8080/"
        },
        "id": "l7iLgRUMrfVv",
        "outputId": "d93723bb-3c0d-457e-ce70-1a5afdc2a148"
      },
      "execution_count": 11,
      "outputs": [
        {
          "output_type": "stream",
          "name": "stdout",
          "text": [
            "請輸入兩個數字，數字間以空白格隔開4 5 \n",
            "請輸入一運算符號/\n",
            "0.8\n"
          ]
        }
      ]
    },
    {
      "cell_type": "code",
      "source": [
        "a=int(input(\"請輸入年分\"))\n",
        "if a<=1582:\n",
        "  if a%4==0:\n",
        "    print(\"是閏年\")\n",
        "  else:\n",
        "    print(\"是平年\")\n",
        "elif a%4==0:\n",
        "  if a%100==0:\n",
        "    if a%400==0:\n",
        "      print(\"是閏年\")\n",
        "    else:\n",
        "      print(\"是平年\")\n",
        "  else:\n",
        "    print(\"是閏年\")\n",
        "else:\n",
        "  print(\"是平年\")\n",
        "\n",
        "\n",
        "\n"
      ],
      "metadata": {
        "colab": {
          "base_uri": "https://localhost:8080/"
        },
        "id": "O-YgyMJmwStT",
        "outputId": "3f74c32e-1922-4a91-c665-2bdd6624b98d"
      },
      "execution_count": 18,
      "outputs": [
        {
          "output_type": "stream",
          "name": "stdout",
          "text": [
            "請輸入年分1900\n",
            "是平年\n"
          ]
        }
      ]
    }
  ]
}