{
  "nbformat": 4,
  "nbformat_minor": 0,
  "metadata": {
    "colab": {
      "provenance": []
    },
    "kernelspec": {
      "name": "python3",
      "display_name": "Python 3"
    },
    "language_info": {
      "name": "python"
    }
  },
  "cells": [
    {
      "cell_type": "code",
      "execution_count": null,
      "metadata": {
        "colab": {
          "base_uri": "https://localhost:8080/"
        },
        "id": "ZegVh6fUdFoW",
        "outputId": "6006c9a0-65e0-413d-827f-a80d30741db7"
      },
      "outputs": [
        {
          "output_type": "stream",
          "name": "stdout",
          "text": [
            "A\n",
            "['K', 'H', 'U']\n"
          ]
        }
      ],
      "source": [
        "a='C,B,A'\n",
        "b=['F','G','H']\n",
        "c=a.split(',')+b\n",
        "c[0]='K'\n",
        "print(c.pop(2))\n",
        "del c[1:4]\n",
        "c.append('U')\n",
        "print(c)\n",
        "\n",
        "\n"
      ]
    },
    {
      "cell_type": "code",
      "source": [
        "w=input ('輸入體重(kg):')\n",
        "h=input ('輸入身高(m):')\n",
        "w=float (w)\n",
        "h=float (h)\n",
        "x=w/(h**2)\n",
        "print(x)\n",
        "if x<18.5:\n",
        "  print('體位:過輕')\n",
        "elif 18.5<=x<24:\n",
        "  print('體位:適中')\n",
        "elif 24<=x<27:\n",
        "  print('體位:過重')\n",
        "else:\n",
        "  print('體位:肥胖')"
      ],
      "metadata": {
        "colab": {
          "base_uri": "https://localhost:8080/"
        },
        "id": "mZQAKbt1l1tS",
        "outputId": "90bc3825-d44a-41d8-8ea1-75a64894755c"
      },
      "execution_count": null,
      "outputs": [
        {
          "output_type": "stream",
          "name": "stdout",
          "text": [
            "輸入體重(kg):52\n",
            "輸入身高(m):1.72\n",
            "17.577068685776098\n",
            "體位:過輕\n"
          ]
        }
      ]
    }
  ]
}